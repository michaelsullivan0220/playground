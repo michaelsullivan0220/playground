{
 "metadata": {
  "language_info": {
   "codemirror_mode": {
    "name": "ipython",
    "version": 3
   },
   "file_extension": ".py",
   "mimetype": "text/x-python",
   "name": "python",
   "nbconvert_exporter": "python",
   "pygments_lexer": "ipython3",
   "version": "3.7.9-final"
  },
  "orig_nbformat": 2,
  "kernelspec": {
   "name": "python3",
   "display_name": "Python 3.7.9 64-bit ('PythonData': conda)",
   "metadata": {
    "interpreter": {
     "hash": "359714c6a89d12a6cd067d7ac86b5eaa8427bd772685613156d95e7c3a049d14"
    }
   }
  }
 },
 "nbformat": 4,
 "nbformat_minor": 2,
 "cells": [
  {
   "cell_type": "code",
   "execution_count": 1,
   "metadata": {},
   "outputs": [
    {
     "output_type": "execute_result",
     "data": {
      "text/plain": [
       "           datetime                  city state country     shape  \\\n",
       "0  10/10/1949 20:30            san marcos    tx      us  cylinder   \n",
       "1  10/10/1949 21:00          lackland afb    tx     NaN     light   \n",
       "2  10/10/1955 17:00  chester (uk/england)   NaN      gb    circle   \n",
       "3  10/10/1956 21:00                  edna    tx      us    circle   \n",
       "4  10/10/1960 20:00               kaneohe    hi      us     light   \n",
       "\n",
       "  duration (seconds) duration (hours/min)  \\\n",
       "0               2700           45 minutes   \n",
       "1               7200              1-2 hrs   \n",
       "2                 20           20 seconds   \n",
       "3                 20             1/2 hour   \n",
       "4                900           15 minutes   \n",
       "\n",
       "                                            comments date posted    latitude  \\\n",
       "0  This event took place in early fall around 194...   4/27/2004  29.8830556   \n",
       "1  1949 Lackland AFB&#44 TX.  Lights racing acros...  12/16/2005    29.38421   \n",
       "2  Green/Orange circular disc over Chester&#44 En...   1/21/2008        53.2   \n",
       "3  My older brother and twin sister were leaving ...   1/17/2004  28.9783333   \n",
       "4  AS a Marine 1st Lt. flying an FJ4B fighter/att...   1/22/2004  21.4180556   \n",
       "\n",
       "   longitude   \n",
       "0  -97.941111  \n",
       "1  -98.581082  \n",
       "2   -2.916667  \n",
       "3  -96.645833  \n",
       "4 -157.803611  "
      ],
      "text/html": "<div>\n<style scoped>\n    .dataframe tbody tr th:only-of-type {\n        vertical-align: middle;\n    }\n\n    .dataframe tbody tr th {\n        vertical-align: top;\n    }\n\n    .dataframe thead th {\n        text-align: right;\n    }\n</style>\n<table border=\"1\" class=\"dataframe\">\n  <thead>\n    <tr style=\"text-align: right;\">\n      <th></th>\n      <th>datetime</th>\n      <th>city</th>\n      <th>state</th>\n      <th>country</th>\n      <th>shape</th>\n      <th>duration (seconds)</th>\n      <th>duration (hours/min)</th>\n      <th>comments</th>\n      <th>date posted</th>\n      <th>latitude</th>\n      <th>longitude</th>\n    </tr>\n  </thead>\n  <tbody>\n    <tr>\n      <th>0</th>\n      <td>10/10/1949 20:30</td>\n      <td>san marcos</td>\n      <td>tx</td>\n      <td>us</td>\n      <td>cylinder</td>\n      <td>2700</td>\n      <td>45 minutes</td>\n      <td>This event took place in early fall around 194...</td>\n      <td>4/27/2004</td>\n      <td>29.8830556</td>\n      <td>-97.941111</td>\n    </tr>\n    <tr>\n      <th>1</th>\n      <td>10/10/1949 21:00</td>\n      <td>lackland afb</td>\n      <td>tx</td>\n      <td>NaN</td>\n      <td>light</td>\n      <td>7200</td>\n      <td>1-2 hrs</td>\n      <td>1949 Lackland AFB&amp;#44 TX.  Lights racing acros...</td>\n      <td>12/16/2005</td>\n      <td>29.38421</td>\n      <td>-98.581082</td>\n    </tr>\n    <tr>\n      <th>2</th>\n      <td>10/10/1955 17:00</td>\n      <td>chester (uk/england)</td>\n      <td>NaN</td>\n      <td>gb</td>\n      <td>circle</td>\n      <td>20</td>\n      <td>20 seconds</td>\n      <td>Green/Orange circular disc over Chester&amp;#44 En...</td>\n      <td>1/21/2008</td>\n      <td>53.2</td>\n      <td>-2.916667</td>\n    </tr>\n    <tr>\n      <th>3</th>\n      <td>10/10/1956 21:00</td>\n      <td>edna</td>\n      <td>tx</td>\n      <td>us</td>\n      <td>circle</td>\n      <td>20</td>\n      <td>1/2 hour</td>\n      <td>My older brother and twin sister were leaving ...</td>\n      <td>1/17/2004</td>\n      <td>28.9783333</td>\n      <td>-96.645833</td>\n    </tr>\n    <tr>\n      <th>4</th>\n      <td>10/10/1960 20:00</td>\n      <td>kaneohe</td>\n      <td>hi</td>\n      <td>us</td>\n      <td>light</td>\n      <td>900</td>\n      <td>15 minutes</td>\n      <td>AS a Marine 1st Lt. flying an FJ4B fighter/att...</td>\n      <td>1/22/2004</td>\n      <td>21.4180556</td>\n      <td>-157.803611</td>\n    </tr>\n  </tbody>\n</table>\n</div>"
     },
     "metadata": {},
     "execution_count": 1
    }
   ],
   "source": [
    "# Set and read the file. Show first 5 rows.\n",
    "import pandas as pd\n",
    "file = (\"resources/ufoSightings.csv\")\n",
    "df = pd.read_csv(file)\n",
    "df.head()"
   ]
  },
  {
   "cell_type": "code",
   "execution_count": 2,
   "metadata": {},
   "outputs": [
    {
     "output_type": "execute_result",
     "data": {
      "text/plain": [
       "           datetime state country duration (seconds)\n",
       "0  10/10/1949 20:30    tx      us               2700\n",
       "1  10/10/1949 21:00    tx     NaN               7200\n",
       "2  10/10/1955 17:00   NaN      gb                 20\n",
       "3  10/10/1956 21:00    tx      us                 20\n",
       "4  10/10/1960 20:00    hi      us                900"
      ],
      "text/html": "<div>\n<style scoped>\n    .dataframe tbody tr th:only-of-type {\n        vertical-align: middle;\n    }\n\n    .dataframe tbody tr th {\n        vertical-align: top;\n    }\n\n    .dataframe thead th {\n        text-align: right;\n    }\n</style>\n<table border=\"1\" class=\"dataframe\">\n  <thead>\n    <tr style=\"text-align: right;\">\n      <th></th>\n      <th>datetime</th>\n      <th>state</th>\n      <th>country</th>\n      <th>duration (seconds)</th>\n    </tr>\n  </thead>\n  <tbody>\n    <tr>\n      <th>0</th>\n      <td>10/10/1949 20:30</td>\n      <td>tx</td>\n      <td>us</td>\n      <td>2700</td>\n    </tr>\n    <tr>\n      <th>1</th>\n      <td>10/10/1949 21:00</td>\n      <td>tx</td>\n      <td>NaN</td>\n      <td>7200</td>\n    </tr>\n    <tr>\n      <th>2</th>\n      <td>10/10/1955 17:00</td>\n      <td>NaN</td>\n      <td>gb</td>\n      <td>20</td>\n    </tr>\n    <tr>\n      <th>3</th>\n      <td>10/10/1956 21:00</td>\n      <td>tx</td>\n      <td>us</td>\n      <td>20</td>\n    </tr>\n    <tr>\n      <th>4</th>\n      <td>10/10/1960 20:00</td>\n      <td>hi</td>\n      <td>us</td>\n      <td>900</td>\n    </tr>\n  </tbody>\n</table>\n</div>"
     },
     "metadata": {},
     "execution_count": 2
    }
   ],
   "source": [
    "# Remove unwanted columns and show updated header\n",
    "del df[\"comments\"]\n",
    "del df[\"shape\"]\n",
    "del df[\"city\"]\n",
    "del df[\"duration (hours/min)\"]\n",
    "del df[\"latitude\"]\n",
    "del df[\"longitude \"]\n",
    "del df[\"date posted\"]\n",
    "\n",
    "df.head()"
   ]
  },
  {
   "cell_type": "code",
   "execution_count": 3,
   "metadata": {},
   "outputs": [
    {
     "output_type": "execute_result",
     "data": {
      "text/plain": [
       "datetime              object\n",
       "state                 object\n",
       "country               object\n",
       "duration (seconds)    object\n",
       "dtype: object"
      ]
     },
     "metadata": {},
     "execution_count": 3
    }
   ],
   "source": [
    "# Show the types for each column\n",
    "df.dtypes"
   ]
  },
  {
   "cell_type": "code",
   "execution_count": 4,
   "metadata": {},
   "outputs": [],
   "source": [
    "# The next code block could not change type to_numeric. There were some values that had ` in them. had to remove. \n",
    "# This will not work for fututre csv files. need to find way to detect and delete or correct these values.\n",
    "df.loc[27822,[\"duration (seconds)\"]] = 2\n",
    "df.loc[35692,[\"duration (seconds)\"]] = 8\n",
    "df.loc[58591,[\"duration (seconds)\"]] = .5"
   ]
  },
  {
   "cell_type": "code",
   "execution_count": 5,
   "metadata": {},
   "outputs": [],
   "source": [
    "# Re-assign types required\n",
    "df[\"duration (seconds)\"] = pd.to_numeric(df[\"duration (seconds)\"])"
   ]
  },
  {
   "cell_type": "code",
   "execution_count": 6,
   "metadata": {},
   "outputs": [
    {
     "output_type": "execute_result",
     "data": {
      "text/plain": [
       "datetime               object\n",
       "state                  object\n",
       "country                object\n",
       "duration (seconds)    float64\n",
       "dtype: object"
      ]
     },
     "metadata": {},
     "execution_count": 6
    }
   ],
   "source": [
    "# Confirm the type has been re-assigned \n",
    "df.dtypes"
   ]
  },
  {
   "cell_type": "code",
   "execution_count": 7,
   "metadata": {},
   "outputs": [
    {
     "output_type": "execute_result",
     "data": {
      "text/plain": [
       "datetime              80332\n",
       "state                 74535\n",
       "country               70662\n",
       "duration (seconds)    80332\n",
       "dtype: int64"
      ]
     },
     "metadata": {},
     "execution_count": 7
    }
   ],
   "source": [
    "# Show count of non-null values in each column\n",
    "df.count()"
   ]
  },
  {
   "cell_type": "code",
   "execution_count": 8,
   "metadata": {},
   "outputs": [
    {
     "output_type": "execute_result",
     "data": {
      "text/plain": [
       "datetime              68121\n",
       "state                 68121\n",
       "country               68121\n",
       "duration (seconds)    68121\n",
       "dtype: int64"
      ]
     },
     "metadata": {},
     "execution_count": 8
    }
   ],
   "source": [
    "# Delete all rows with a null value in any column \n",
    "df = df.dropna(how=\"any\")\n",
    "\n",
    "# Confirm the rows are the same quantity. This will confirm that all null values are gone.\n",
    "df.count()"
   ]
  },
  {
   "cell_type": "code",
   "execution_count": 9,
   "metadata": {},
   "outputs": [],
   "source": []
  },
  {
   "source": [
    "df2 = df.groupby([\"country\", \"state\"])"
   ],
   "cell_type": "code",
   "metadata": {},
   "execution_count": 15,
   "outputs": []
  },
  {
   "cell_type": "code",
   "execution_count": 17,
   "metadata": {},
   "outputs": [
    {
     "output_type": "execute_result",
     "data": {
      "text/plain": [
       "               datetime  duration (seconds)\n",
       "country state                              \n",
       "au      al            1                   1\n",
       "        dc            1                   1\n",
       "        nt            2                   2\n",
       "        oh            1                   1\n",
       "        sa            2                   2"
      ],
      "text/html": "<div>\n<style scoped>\n    .dataframe tbody tr th:only-of-type {\n        vertical-align: middle;\n    }\n\n    .dataframe tbody tr th {\n        vertical-align: top;\n    }\n\n    .dataframe thead th {\n        text-align: right;\n    }\n</style>\n<table border=\"1\" class=\"dataframe\">\n  <thead>\n    <tr style=\"text-align: right;\">\n      <th></th>\n      <th></th>\n      <th>datetime</th>\n      <th>duration (seconds)</th>\n    </tr>\n    <tr>\n      <th>country</th>\n      <th>state</th>\n      <th></th>\n      <th></th>\n    </tr>\n  </thead>\n  <tbody>\n    <tr>\n      <th rowspan=\"5\" valign=\"top\">au</th>\n      <th>al</th>\n      <td>1</td>\n      <td>1</td>\n    </tr>\n    <tr>\n      <th>dc</th>\n      <td>1</td>\n      <td>1</td>\n    </tr>\n    <tr>\n      <th>nt</th>\n      <td>2</td>\n      <td>2</td>\n    </tr>\n    <tr>\n      <th>oh</th>\n      <td>1</td>\n      <td>1</td>\n    </tr>\n    <tr>\n      <th>sa</th>\n      <td>2</td>\n      <td>2</td>\n    </tr>\n  </tbody>\n</table>\n</div>"
     },
     "metadata": {},
     "execution_count": 17
    }
   ],
   "source": [
    "df2.count().head()"
   ]
  },
  {
   "cell_type": "code",
   "execution_count": null,
   "metadata": {},
   "outputs": [],
   "source": [
    "# review all the above and add more comments\n",
    "# continue to break this data down with pandas \n",
    "# bonus: get a report to a txt file with a graph!!"
   ]
  },
  {
   "cell_type": "code",
   "execution_count": null,
   "metadata": {},
   "outputs": [],
   "source": []
  },
  {
   "cell_type": "code",
   "execution_count": null,
   "metadata": {},
   "outputs": [],
   "source": []
  }
 ]
}